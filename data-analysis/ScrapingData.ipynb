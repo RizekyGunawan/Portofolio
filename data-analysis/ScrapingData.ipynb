{
  "nbformat": 4,
  "nbformat_minor": 0,
  "metadata": {
    "colab": {
      "provenance": [],
      "authorship_tag": "ABX9TyM529P+gyEH1o20EKaerhTM",
      "include_colab_link": true
    },
    "kernelspec": {
      "name": "python3",
      "display_name": "Python 3"
    },
    "language_info": {
      "name": "python"
    }
  },
  "cells": [
    {
      "cell_type": "markdown",
      "metadata": {
        "id": "view-in-github",
        "colab_type": "text"
      },
      "source": [
        "<a href=\"https://colab.research.google.com/github/RizekyGunawan/Portofolio/blob/main/data-analysis/ScrapingData.ipynb\" target=\"_parent\"><img src=\"https://colab.research.google.com/assets/colab-badge.svg\" alt=\"Open In Colab\"/></a>"
      ]
    },
    {
      "cell_type": "markdown",
      "source": [
        "# **Scraping Data**\n",
        "\n"
      ],
      "metadata": {
        "id": "kzYfF3TJNIcc"
      }
    },
    {
      "cell_type": "code",
      "execution_count": null,
      "metadata": {
        "id": "Ct13y6H4gdQl",
        "collapsed": true,
        "colab": {
          "base_uri": "https://localhost:8080/"
        },
        "outputId": "428f5bfd-a3b6-41ff-bf40-20f950f72b29"
      },
      "outputs": [
        {
          "output_type": "stream",
          "name": "stdout",
          "text": [
            "Collecting google-play-scraper\n",
            "  Downloading google_play_scraper-1.2.7-py3-none-any.whl.metadata (50 kB)\n",
            "\u001b[?25l     \u001b[90m━━━━━━━━━━━━━━━━━━━━━━━━━━━━━━━━━━━━━━━━\u001b[0m \u001b[32m0.0/50.2 kB\u001b[0m \u001b[31m?\u001b[0m eta \u001b[36m-:--:--\u001b[0m\r\u001b[2K     \u001b[90m━━━━━━━━━━━━━━━━━━━━━━━━━━━━━━━━━━━━━━━━\u001b[0m \u001b[32m50.2/50.2 kB\u001b[0m \u001b[31m3.8 MB/s\u001b[0m eta \u001b[36m0:00:00\u001b[0m\n",
            "\u001b[?25hRequirement already satisfied: pandas in /usr/local/lib/python3.11/dist-packages (2.2.2)\n",
            "Requirement already satisfied: matplotlib in /usr/local/lib/python3.11/dist-packages (3.10.0)\n",
            "Requirement already satisfied: seaborn in /usr/local/lib/python3.11/dist-packages (0.13.2)\n",
            "Requirement already satisfied: numpy>=1.23.2 in /usr/local/lib/python3.11/dist-packages (from pandas) (2.0.2)\n",
            "Requirement already satisfied: python-dateutil>=2.8.2 in /usr/local/lib/python3.11/dist-packages (from pandas) (2.9.0.post0)\n",
            "Requirement already satisfied: pytz>=2020.1 in /usr/local/lib/python3.11/dist-packages (from pandas) (2025.2)\n",
            "Requirement already satisfied: tzdata>=2022.7 in /usr/local/lib/python3.11/dist-packages (from pandas) (2025.2)\n",
            "Requirement already satisfied: contourpy>=1.0.1 in /usr/local/lib/python3.11/dist-packages (from matplotlib) (1.3.2)\n",
            "Requirement already satisfied: cycler>=0.10 in /usr/local/lib/python3.11/dist-packages (from matplotlib) (0.12.1)\n",
            "Requirement already satisfied: fonttools>=4.22.0 in /usr/local/lib/python3.11/dist-packages (from matplotlib) (4.58.4)\n",
            "Requirement already satisfied: kiwisolver>=1.3.1 in /usr/local/lib/python3.11/dist-packages (from matplotlib) (1.4.8)\n",
            "Requirement already satisfied: packaging>=20.0 in /usr/local/lib/python3.11/dist-packages (from matplotlib) (24.2)\n",
            "Requirement already satisfied: pillow>=8 in /usr/local/lib/python3.11/dist-packages (from matplotlib) (11.2.1)\n",
            "Requirement already satisfied: pyparsing>=2.3.1 in /usr/local/lib/python3.11/dist-packages (from matplotlib) (3.2.3)\n",
            "Requirement already satisfied: six>=1.5 in /usr/local/lib/python3.11/dist-packages (from python-dateutil>=2.8.2->pandas) (1.17.0)\n",
            "Downloading google_play_scraper-1.2.7-py3-none-any.whl (28 kB)\n",
            "Installing collected packages: google-play-scraper\n",
            "Successfully installed google-play-scraper-1.2.7\n"
          ]
        }
      ],
      "source": [
        "!pip install google-play-scraper pandas matplotlib seaborn"
      ]
    },
    {
      "cell_type": "code",
      "source": [
        "from google_play_scraper import reviews,Sort\n",
        "\n",
        "#ID Aplikasi\n",
        "app_id = 'com.twitter.android'\n",
        "\n",
        "#Mengambil Ulasan\n",
        "result, _= reviews(\n",
        "    app_id,\n",
        "    lang = \"id\",\n",
        "    country = \"id\",\n",
        "    sort = Sort.NEWEST,\n",
        "    count=3000\n",
        ")\n",
        "\n",
        "print(f\"Jumlah Ulasang yang diperoleh: {len(result)}\")\n",
        "print(result[:5])"
      ],
      "metadata": {
        "id": "4vn4NB0mg3Je",
        "collapsed": true,
        "colab": {
          "base_uri": "https://localhost:8080/"
        },
        "outputId": "c1e5d3c9-e1f3-4b03-cc7c-146c95d5e81b"
      },
      "execution_count": null,
      "outputs": [
        {
          "output_type": "stream",
          "name": "stdout",
          "text": [
            "Jumlah Ulasang yang diperoleh: 3000\n",
            "[{'reviewId': '73226e37-cb52-40c7-834c-b42d6ec66ed3', 'userName': 'Pengguna Google', 'userImage': 'https://play-lh.googleusercontent.com/EGemoI2NTXmTsBVtJqk8jxF9rh8ApRWfsIMQSt2uE4OcpQqbFu7f7NbTK05lx80nuSijCz7sc3a277R67g', 'content': 'bisa lihat bocoran nanti', 'score': 5, 'thumbsUpCount': 0, 'reviewCreatedVersion': '11.4.0-release.0', 'at': datetime.datetime(2025, 6, 23, 8, 19, 2), 'replyContent': None, 'repliedAt': None, 'appVersion': '11.4.0-release.0'}, {'reviewId': 'dbe8e287-75fc-4ff4-a532-cebe7b13b8e1', 'userName': 'Pengguna Google', 'userImage': 'https://play-lh.googleusercontent.com/EGemoI2NTXmTsBVtJqk8jxF9rh8ApRWfsIMQSt2uE4OcpQqbFu7f7NbTK05lx80nuSijCz7sc3a277R67g', 'content': 'Sering log out sendiri', 'score': 1, 'thumbsUpCount': 2, 'reviewCreatedVersion': '11.4.0-release.0', 'at': datetime.datetime(2025, 6, 23, 7, 25, 35), 'replyContent': None, 'repliedAt': None, 'appVersion': '11.4.0-release.0'}, {'reviewId': 'cdbc1c74-fb30-4ee7-84b9-e138de32b4b5', 'userName': 'Pengguna Google', 'userImage': 'https://play-lh.googleusercontent.com/EGemoI2NTXmTsBVtJqk8jxF9rh8ApRWfsIMQSt2uE4OcpQqbFu7f7NbTK05lx80nuSijCz7sc3a277R67g', 'content': 'apknya udah bagus, cuman kadang kalau mau login suka error \"terjadi kesalahan teknis\" terus pas udh login 2 jam kemudian disuruh login dan error, kocak ni apk', 'score': 4, 'thumbsUpCount': 0, 'reviewCreatedVersion': None, 'at': datetime.datetime(2025, 6, 23, 6, 56, 57), 'replyContent': None, 'repliedAt': None, 'appVersion': None}, {'reviewId': 'cf663596-21e3-4383-9e32-3d71f6f6a630', 'userName': 'Pengguna Google', 'userImage': 'https://play-lh.googleusercontent.com/EGemoI2NTXmTsBVtJqk8jxF9rh8ApRWfsIMQSt2uE4OcpQqbFu7f7NbTK05lx80nuSijCz7sc3a277R67g', 'content': 'aplikasi terburuk yg pernah ada. hapus aja ni pihat google play', 'score': 1, 'thumbsUpCount': 0, 'reviewCreatedVersion': '11.4.0-release.0', 'at': datetime.datetime(2025, 6, 23, 6, 19, 6), 'replyContent': None, 'repliedAt': None, 'appVersion': '11.4.0-release.0'}, {'reviewId': '8a9b550a-650c-41e1-9ae0-71b59cb201be', 'userName': 'Pengguna Google', 'userImage': 'https://play-lh.googleusercontent.com/EGemoI2NTXmTsBVtJqk8jxF9rh8ApRWfsIMQSt2uE4OcpQqbFu7f7NbTK05lx80nuSijCz7sc3a277R67g', 'content': '👍..cukup puas sih.', 'score': 4, 'thumbsUpCount': 0, 'reviewCreatedVersion': '11.4.0-release.0', 'at': datetime.datetime(2025, 6, 23, 5, 49, 50), 'replyContent': None, 'repliedAt': None, 'appVersion': '11.4.0-release.0'}]\n"
          ]
        }
      ]
    },
    {
      "cell_type": "code",
      "source": [
        "import pandas as pd\n",
        "\n",
        "# Konversi hasil ke DataFrame Pandas\n",
        "df_reviews = pd.DataFrame(result)\n",
        "\n",
        "# Filter data ulasan pada tahun X\n",
        "df_2025 = df_reviews[df_reviews['at'].dt.year == 2025]\n",
        "\n",
        "print(f\"Jumlah ulasan: {len(df_2025)}\")\n",
        "\n",
        "# Menampilkan data ulasan\n",
        "print(df_2025)"
      ],
      "metadata": {
        "id": "lfx52Ptih88S",
        "colab": {
          "base_uri": "https://localhost:8080/"
        },
        "outputId": "d585d1ba-fff0-4944-b645-ebdd95fd6ce1"
      },
      "execution_count": null,
      "outputs": [
        {
          "output_type": "stream",
          "name": "stdout",
          "text": [
            "Jumlah ulasan: 3000\n",
            "                                  reviewId         userName  \\\n",
            "0     73226e37-cb52-40c7-834c-b42d6ec66ed3  Pengguna Google   \n",
            "1     dbe8e287-75fc-4ff4-a532-cebe7b13b8e1  Pengguna Google   \n",
            "2     cdbc1c74-fb30-4ee7-84b9-e138de32b4b5  Pengguna Google   \n",
            "3     cf663596-21e3-4383-9e32-3d71f6f6a630  Pengguna Google   \n",
            "4     8a9b550a-650c-41e1-9ae0-71b59cb201be  Pengguna Google   \n",
            "...                                    ...              ...   \n",
            "2995  e47eac91-a02f-44e1-9bee-d08c4a31c026  Pengguna Google   \n",
            "2996  ab977f61-7838-4261-bb71-edb224f5f0b7  Pengguna Google   \n",
            "2997  133182f0-bf1b-4d8e-b601-8dc1b6454d05  Pengguna Google   \n",
            "2998  9ba17e7b-2a98-4601-be0f-ceb4c6cf081f  Pengguna Google   \n",
            "2999  efbcabde-426a-4c73-92a7-21d25cd726ee  Pengguna Google   \n",
            "\n",
            "                                              userImage  \\\n",
            "0     https://play-lh.googleusercontent.com/EGemoI2N...   \n",
            "1     https://play-lh.googleusercontent.com/EGemoI2N...   \n",
            "2     https://play-lh.googleusercontent.com/EGemoI2N...   \n",
            "3     https://play-lh.googleusercontent.com/EGemoI2N...   \n",
            "4     https://play-lh.googleusercontent.com/EGemoI2N...   \n",
            "...                                                 ...   \n",
            "2995  https://play-lh.googleusercontent.com/EGemoI2N...   \n",
            "2996  https://play-lh.googleusercontent.com/EGemoI2N...   \n",
            "2997  https://play-lh.googleusercontent.com/EGemoI2N...   \n",
            "2998  https://play-lh.googleusercontent.com/EGemoI2N...   \n",
            "2999  https://play-lh.googleusercontent.com/EGemoI2N...   \n",
            "\n",
            "                                                content  score  thumbsUpCount  \\\n",
            "0                              bisa lihat bocoran nanti      5              0   \n",
            "1                                Sering log out sendiri      1              2   \n",
            "2     apknya udah bagus, cuman kadang kalau mau logi...      4              0   \n",
            "3     aplikasi terburuk yg pernah ada. hapus aja ni ...      1              0   \n",
            "4                                    👍..cukup puas sih.      4              0   \n",
            "...                                                 ...    ...            ...   \n",
            "2995                         good jobs yesss thanks you      5              0   \n",
            "2996                                              bagus      5              0   \n",
            "2997                          jangan sering sering down      5              0   \n",
            "2998                   gangguan mulu aplikasi kacau nih      1              0   \n",
            "2999                            gak bisa masuk aplikasi      1              0   \n",
            "\n",
            "     reviewCreatedVersion                  at replyContent repliedAt  \\\n",
            "0        11.4.0-release.0 2025-06-23 08:19:02         None      None   \n",
            "1        11.4.0-release.0 2025-06-23 07:25:35         None      None   \n",
            "2                    None 2025-06-23 06:56:57         None      None   \n",
            "3        11.4.0-release.0 2025-06-23 06:19:06         None      None   \n",
            "4        11.4.0-release.0 2025-06-23 05:49:50         None      None   \n",
            "...                   ...                 ...          ...       ...   \n",
            "2995    10.97.0-release.0 2025-05-20 10:41:26         None      None   \n",
            "2996    10.97.0-release.0 2025-05-20 10:39:12         None      None   \n",
            "2997    10.97.0-release.0 2025-05-20 10:38:20         None      None   \n",
            "2998    10.97.0-release.0 2025-05-20 10:38:14         None      None   \n",
            "2999    10.97.0-release.0 2025-05-20 10:37:20         None      None   \n",
            "\n",
            "             appVersion  \n",
            "0      11.4.0-release.0  \n",
            "1      11.4.0-release.0  \n",
            "2                  None  \n",
            "3      11.4.0-release.0  \n",
            "4      11.4.0-release.0  \n",
            "...                 ...  \n",
            "2995  10.97.0-release.0  \n",
            "2996  10.97.0-release.0  \n",
            "2997  10.97.0-release.0  \n",
            "2998  10.97.0-release.0  \n",
            "2999  10.97.0-release.0  \n",
            "\n",
            "[3000 rows x 11 columns]\n"
          ]
        }
      ]
    },
    {
      "cell_type": "code",
      "source": [
        "#Simpan Data\n",
        "df_reviews.to_csv('reviews_app.csv', index=False)\n",
        "\n",
        "#Downloading file csv\n",
        "from google.colab import files\n",
        "files.download('reviews_app.csv')"
      ],
      "metadata": {
        "id": "qbw3AZWjj9MP",
        "colab": {
          "base_uri": "https://localhost:8080/",
          "height": 17
        },
        "outputId": "0113521d-4c11-47d8-a1cb-19a7961218e6"
      },
      "execution_count": null,
      "outputs": [
        {
          "output_type": "display_data",
          "data": {
            "text/plain": [
              "<IPython.core.display.Javascript object>"
            ],
            "application/javascript": [
              "\n",
              "    async function download(id, filename, size) {\n",
              "      if (!google.colab.kernel.accessAllowed) {\n",
              "        return;\n",
              "      }\n",
              "      const div = document.createElement('div');\n",
              "      const label = document.createElement('label');\n",
              "      label.textContent = `Downloading \"${filename}\": `;\n",
              "      div.appendChild(label);\n",
              "      const progress = document.createElement('progress');\n",
              "      progress.max = size;\n",
              "      div.appendChild(progress);\n",
              "      document.body.appendChild(div);\n",
              "\n",
              "      const buffers = [];\n",
              "      let downloaded = 0;\n",
              "\n",
              "      const channel = await google.colab.kernel.comms.open(id);\n",
              "      // Send a message to notify the kernel that we're ready.\n",
              "      channel.send({})\n",
              "\n",
              "      for await (const message of channel.messages) {\n",
              "        // Send a message to notify the kernel that we're ready.\n",
              "        channel.send({})\n",
              "        if (message.buffers) {\n",
              "          for (const buffer of message.buffers) {\n",
              "            buffers.push(buffer);\n",
              "            downloaded += buffer.byteLength;\n",
              "            progress.value = downloaded;\n",
              "          }\n",
              "        }\n",
              "      }\n",
              "      const blob = new Blob(buffers, {type: 'application/binary'});\n",
              "      const a = document.createElement('a');\n",
              "      a.href = window.URL.createObjectURL(blob);\n",
              "      a.download = filename;\n",
              "      div.appendChild(a);\n",
              "      a.click();\n",
              "      div.remove();\n",
              "    }\n",
              "  "
            ]
          },
          "metadata": {}
        },
        {
          "output_type": "display_data",
          "data": {
            "text/plain": [
              "<IPython.core.display.Javascript object>"
            ],
            "application/javascript": [
              "download(\"download_a0fac12e-9bb1-4732-9589-22dd8d2215cd\", \"reviews_app.csv\", 250127)"
            ]
          },
          "metadata": {}
        }
      ]
    }
  ]
}